{
 "cells": [
  {
   "cell_type": "markdown",
   "metadata": {},
   "source": [
    "A simple local circuit with interacting populations of excitatory and inhibitory neurons. - Sean Froudist-Walsh & Daniel Margulies. March 2019"
   ]
  },
  {
   "cell_type": "code",
   "execution_count": 1,
   "metadata": {},
   "outputs": [
    {
     "name": "stderr",
     "output_type": "stream",
     "text": [
      "/Users/seanfw/miniconda2/lib/python2.7/site-packages/brian2/core/variables.py:174: FutureWarning: Conversion of the second argument of issubdtype from `float` to `np.floating` is deprecated. In future, it will be treated as `np.float64 == np.dtype(float).type`.\n",
      "  return np.issubdtype(np.bool, self.dtype)\n"
     ]
    }
   ],
   "source": [
    "# let's get what we need together\n",
    "from __future__ import division\n",
    "import numpy as np\n",
    "import numpy.matlib\n",
    "import matplotlib.pyplot as plt\n",
    "%matplotlib inline\n",
    "import pandas\n",
    "import scipy.io as sio\n",
    "import brian2\n",
    "import os\n",
    "import copy"
   ]
  },
  {
   "cell_type": "markdown",
   "metadata": {},
   "source": [
    "Define the function that transforms input current to changes in firing rate for excitatory neurons (Abbott and Chance, 2005). \n",
    "<br>\n",
    "$$r_E = \\frac{aI_{syn,E} - b}{1 - e^{-d(aI_{syn,E} - b)}} $$\n",
    "\n",
    "Update the firing rates of the interneurons using a threshold linear input/output function\n",
    "$$ \\begin{cases}\n",
    "  r_I = \\frac{1}{g_2}(c_II_{syn,I} - c_0) + r_0 & \\text{for } r_I\\ge 0\\\\    \n",
    "  r_I = 0     & \\text{otherwise }  \n",
    "\\end{cases} $$\n"
   ]
  },
  {
   "cell_type": "code",
   "execution_count": 2,
   "metadata": {},
   "outputs": [],
   "source": [
    "def current_to_frequency(input_current,population_type,parameters):\n",
    "    if population_type == 'E':\n",
    "        a = parameters['a_E']\n",
    "        b = parameters['b_E']\n",
    "        d = parameters['d_E']\n",
    "        return np.divide((a*input_current - b),(1 - np.exp(-d*(a*input_current - b))))\n",
    "    if population_type == 'I':\n",
    "        c_I = parameters['c_I']\n",
    "        r_0 = parameters['r0_I']\n",
    "        r = np.maximum(c_I*input_current + r_0,0)\n",
    "        return r"
   ]
  },
  {
   "cell_type": "markdown",
   "metadata": {},
   "source": [
    "Define the NMDA derivative\n",
    "<br>\n",
    "$$ \\frac{dS_{NMDA}}{dt} = -\\frac{S_{NMDA}}{\\tau_{NMDA}} + (1 - S_{NMDA})\\gamma r_E$$\n",
    "(Wong & Wang, 2006)"
   ]
  },
  {
   "cell_type": "code",
   "execution_count": 3,
   "metadata": {},
   "outputs": [],
   "source": [
    "def NMDA_deriv(S_NMDA_prev,rate_now,parameters):\n",
    "    \n",
    "    return -S_NMDA_prev/parameters['tau_NMDA'] + parameters['gam']*(1 - S_NMDA_prev)*rate_now"
   ]
  },
  {
   "cell_type": "markdown",
   "metadata": {},
   "source": [
    "Define the GABA derivative\n",
    "<br>\n",
    "$$ \\frac{dS_{GABA}}{dt} = -\\frac{S_{GABA}}{\\tau_{GABA}} + \\gamma_Ir_I$$\n",
    "(Wong & Wang, 2006)"
   ]
  },
  {
   "cell_type": "code",
   "execution_count": 37,
   "metadata": {},
   "outputs": [],
   "source": [
    "def GABA_deriv(S_GABA_prev,rate_now,parameters):\n",
    "\n",
    "    return -S_GABA_prev/parameters['tau_GABA'] + rate_now \n"
   ]
  },
  {
   "cell_type": "markdown",
   "metadata": {},
   "source": [
    "Let's choose the parameters for the model"
   ]
  },
  {
   "cell_type": "code",
   "execution_count": 65,
   "metadata": {},
   "outputs": [
    {
     "name": "stdout",
     "output_type": "stream",
     "text": [
      "[[   0. -300.]\n",
      " [   0. -150.]] pA\n"
     ]
    }
   ],
   "source": [
    "parameters = {}\n",
    "\n",
    "\n",
    "parameters.update({ # Time constants\n",
    "                    'tau_NMDA': 0.06   * brian2.second,    # s \n",
    "                    'tau_AMPA': 0.002   * brian2.second,    # s \n",
    "                    'tau_GABA': 0.005  * brian2.second,    # s \n",
    "                    'tau_rates': 0.002 * brian2.second,    # s \n",
    "    \n",
    "                    # f-I curve parameters - E populations\n",
    "                    'a_E': 270.  * brian2.Hz/brian2.nA,  # Hz/nA\n",
    "                    'b_E': 108.  * brian2.Hz,            # Hz\n",
    "                    'd_E': 0.154 * brian2.second,        # s\n",
    "                    'gam': 0.641,                         # unitless\n",
    "    \n",
    "                    # f-I curve parameters - I populations\n",
    "                    'c_I': 330 * brian2.Hz/brian2.nA,                 # Hz/nA\n",
    "                    'r0_I': -95 * brian2.Hz,\n",
    "    \n",
    "                    # Strength of connections from E cells\n",
    "                    'g_E_self': 0.40 * brian2.nA ,        # nA - from E to E\n",
    "                    'g_IE': 0.23 * brian2.nA ,            # nA - from E to I\n",
    "    \n",
    "                    # Strength of connections from I cells\n",
    "                    'g_I_self': -0.15   * brian2.nA,     # nA  - from I to I\n",
    "                    'g_EI': -0.3   * brian2.nA,     # nA  - from I to E\n",
    "    \n",
    "                    # Background inputs\n",
    "                    'I0_E': 0.31     * brian2.nA,           # nA - background onto E population\n",
    "                    'I0_I': 0.22      * brian2.nA,         # nA - background onto I population\n",
    "    \n",
    "                    # Noise std dev\n",
    "                    'std_noise': 0.01 * brian2.nA,         # nA  - standard deviation of noise input  \n",
    "    \n",
    "                    # initial values\n",
    "                    'r0_E': 5 * brian2.Hz,\n",
    "            \n",
    "                    # stimulus strength\n",
    "                    'stim_strength': 0.2 * brian2.nA\n",
    "\n",
    "\n",
    "                        })      \n",
    "\n",
    "######## LOCAL CONNECTIVITY MATRIX ########\n",
    "J =  np.array([\n",
    "                [parameters['g_E_self'] , parameters['g_EI']],\n",
    "                [parameters['g_IE'] , parameters['g_I_self']]\n",
    "    \n",
    "              ]) * brian2.amp\n",
    "\n",
    "pops = ['E','I']\n",
    "pops_column_list  = ['from '+ mystring for mystring in pops]\n",
    "pops_row_list  = ['to '+ mystring for mystring in pops]\n",
    "\n",
    "J_NMDA = J*((J>0).astype(np.int))\n",
    "J_GABA = J*((J<0).astype(np.int))\n",
    "\n",
    "df_J = pandas.DataFrame(J , columns=pops_column_list, index=pops_row_list)\n",
    "\n",
    "num_pops  = J.shape[0]\n",
    "\n",
    "# Choose initial values for rates and synapse variables\n",
    "R0 = np.array([parameters['r0_E'],parameters['r0_E']]) * brian2.Hz\n",
    "S_NMDA0 = np.zeros((num_pops))\n",
    "S_GABA0 = np.zeros((num_pops))\n",
    "\n",
    "print(J_GABA)"
   ]
  },
  {
   "cell_type": "markdown",
   "metadata": {},
   "source": [
    "Set up simulation details"
   ]
  },
  {
   "cell_type": "code",
   "execution_count": 66,
   "metadata": {},
   "outputs": [
    {
     "name": "stdout",
     "output_type": "stream",
     "text": [
      "[0. 0.] A\n"
     ]
    }
   ],
   "source": [
    "# Set up simulation parameters\n",
    "dt=0.5 * brian2.ms  # timestep \n",
    "trial_length=5000 * brian2.ms # trial length (s)\n",
    "num_iterations = int(trial_length/dt)\n",
    "time = np.arange(0, trial_length, dt)\n",
    "\n",
    "\n",
    "# Preassign rate and synapse matrices\n",
    "R           = np.zeros((num_iterations,num_pops)) * brian2.Hz\n",
    "R[0,:]      = R0\n",
    "S_NMDA      = np.zeros((num_iterations,num_pops))\n",
    "S_NMDA[0,:] = S_NMDA0\n",
    "S_GABA      = np.zeros((num_iterations,num_pops))\n",
    "S_GABA[0,:] = S_GABA0\n",
    "\n",
    "# # Preassign external inputs\n",
    "I_ext        = np.zeros((num_iterations,num_pops)) * brian2.amp\n",
    "stim_on      = 1 * brian2.second #s\n",
    "stim_off     = 1.5 * brian2.second #s\n",
    "distract_on  = 2 * brian2.second #s\n",
    "distract_off = 2.5 * brian2.second #s\n",
    "\n",
    "# Let's apply external stimulation to V1 populations E1 & E2\n",
    "I_ext[int(stim_on/dt):int(stim_off/dt),pops.index('E')] = parameters['stim_strength']\n",
    "\n",
    "# Create matrices in which we can store the currents\n",
    "I_local_NMDA =  np.zeros((num_iterations,num_pops)) * brian2.pA\n",
    "I_local_GABA =  np.zeros((num_iterations,num_pops)) * brian2.pA\n",
    "I_total      =  np.zeros((num_iterations,num_pops)) * brian2.pA\n",
    "I_noise      =  np.zeros((num_pops )) *brian2.pA\n",
    "\n",
    "# # Define background inputs\n",
    "I_0 = np.zeros((num_pops)) * brian2.pA\n",
    "I_0[pops.index('E')] = parameters['I0_E']\n",
    "I_0[pops.index('I')] = parameters['I0_I']\n",
    "\n",
    "# Let's set up the noise. We will model the noise as an Ornstein-Uhlenbeck process.\n",
    "\n",
    "# Gaussian noise. mean 0, std 1. Dims: timesteps, local populations, areas\n",
    "eta = np.random.normal(loc=0.0, scale=1.0, size=(num_iterations,num_pops ))\n",
    "\n",
    "# prepare the right hand side of the above equation\n",
    "noise_rhs = eta*((np.sqrt(parameters['tau_AMPA']*np.power(parameters['std_noise'],2))*np.sqrt(dt))/parameters['tau_AMPA'])\n",
    "\n",
    "print(I_noise)\n",
    "\n"
   ]
  },
  {
   "cell_type": "code",
   "execution_count": 67,
   "metadata": {},
   "outputs": [
    {
     "data": {
      "text/plain": [
       "Text(0,0.5,'firing rate (Hz)')"
      ]
     },
     "execution_count": 67,
     "metadata": {},
     "output_type": "execute_result"
    },
    {
     "data": {
      "image/png": "[encoded data removed]",
      "text/plain": [
       "<Figure size 480x240 with 1 Axes>"
      ]
     },
     "metadata": {},
     "output_type": "display_data"
    }
   ],
   "source": [
    "# Run the simulation\n",
    "for i_t in range(1,num_iterations):\n",
    "\n",
    "    # update noise - dims = num local pops x num areas\n",
    "    I_noise = I_noise + -I_noise*(dt/parameters['tau_AMPA']) + noise_rhs[i_t-1,:]\n",
    "\n",
    "    # local NMDA\n",
    "    I_local_NMDA[i_t-1,:] = J_NMDA.dot(S_NMDA[i_t-1,:].T).T\n",
    "\n",
    "    # sum up all the local GABA current onto E and I cell somas\n",
    "    I_local_GABA[i_t-1,:] = J_GABA.dot(S_GABA[i_t-1,:].T).T\n",
    "\n",
    "    # Define total input current as sum of local NMDA & GABA inputs, with background, external currents & noise \n",
    "    I_total[i_t-1,:] = I_local_NMDA[i_t-1,:] +  I_local_GABA[i_t-1,:] + I_0 + I_ext[i_t-1,:] + I_noise\n",
    "\n",
    "    # Update the firing rates of the excitatory population\n",
    "    R[i_t,0] = R[i_t-1,0] + dt*current_to_frequency(I_total[i_t-1,0],'E',parameters)/parameters['tau_rates']-dt*R[i_t-1,0]/parameters['tau_rates']\n",
    "\n",
    "    # Update the firing rates of the inhibitory population. \n",
    "    R[i_t,1] = R[i_t-1,1] + dt*current_to_frequency(I_total[i_t-1,1],'I',parameters)/parameters['tau_rates'] -dt*R[i_t-1,1]/parameters['tau_rates']\n",
    "\n",
    "    # Update the NMDA synapses\n",
    "    S_NMDA[i_t,0] = S_NMDA[i_t-1,0] + dt*NMDA_deriv(S_NMDA[i_t-1,0],R[i_t,0],parameters)\n",
    "\n",
    "    # Update the GABA synapses\n",
    "    S_GABA[i_t,1] = S_GABA[i_t-1,1] + dt*GABA_deriv(S_GABA[i_t-1,1],R[i_t,1],parameters)\n",
    "    \n",
    "    \n",
    "fig=plt.figure(figsize=(6,3), dpi= 80, facecolor='w', edgecolor='k')\n",
    "start_time = 0.5 #seconds\n",
    "end_time = 5 #seconds\n",
    "plt.rcParams.update({'font.size': 12})\n",
    "\n",
    "# Plot E population rates\n",
    "plt.plot(np.arange((start_time-1)*brian2.second,(end_time-1)*brian2.second,dt),R[np.arange(int(start_time/dt),int(end_time/dt),1),0],color='r')\n",
    "# Plot I population rates\n",
    "plt.plot(np.arange((start_time-1)*brian2.second,(end_time-1)*brian2.second,dt),R[np.arange(int(start_time/dt),int(end_time/dt),1),1],color='b')\n",
    "     \n",
    "# Plot the stimulation time\n",
    "plt.plot([stim_on-1*brian2.second,stim_off-1*brian2.second],[np.max(R+0.05*np.max(R)),np.max(R+0.05*np.max(R))],color='r',linewidth=5.0)\n",
    "\n",
    "# place text above the stimulation line\n",
    "axes = plt.gca()\n",
    "axes.text(0.15, 1.2,'External stimulation', transform=axes.transAxes, fontsize=10, verticalalignment='top')\n",
    "\n",
    "plt.legend(['E','I'])\n",
    "plt.xlabel('time (s)')\n",
    "plt.ylabel('firing rate (Hz)')\n",
    "# plt.ylim(0, 80) \n"
   ]
  },
  {
   "cell_type": "code",
   "execution_count": null,
   "metadata": {},
   "outputs": [],
   "source": []
  }
 ],
 "metadata": {
  "kernelspec": {
   "display_name": "Python 2",
   "language": "python",
   "name": "python2"
  },
  "language_info": {
   "codemirror_mode": {
    "name": "ipython",
    "version": 2
   },
   "file_extension": ".py",
   "mimetype": "text/x-python",
   "name": "python",
   "nbconvert_exporter": "python",
   "pygments_lexer": "ipython2",
   "version": "2.7.15"
  }
 },
 "nbformat": 4,
 "nbformat_minor": 2
}
