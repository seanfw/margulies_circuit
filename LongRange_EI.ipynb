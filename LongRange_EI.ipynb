{
 "cells": [
  {
   "cell_type": "markdown",
   "metadata": {},
   "source": [
    "A simple local circuit with interacting populations of excitatory and inhibitory neurons. Propagation between nodes takes place both along the surface and along white-matter tracts - Sean Froudist-Walsh & Daniel Margulies. March 2019"
   ]
  },
  {
   "cell_type": "code",
   "execution_count": 29,
   "metadata": {},
   "outputs": [],
   "source": [
    "%matplotlib inline\n",
    "from __future__ import division\n",
    "import numpy as np\n",
    "import numpy.matlib\n",
    "import matplotlib.pyplot as plt\n",
    "import pandas\n",
    "import scipy.io as sio\n",
    "import brian2\n",
    "import os\n",
    "import copy"
   ]
  },
  {
   "cell_type": "markdown",
   "metadata": {},
   "source": [
    "Define the function that transforms input current to changes in firing rate for excitatory neurons (Abbott and Chance, 2005). \n",
    "<br>\n",
    "$$r_E = \\frac{aI_{syn,E} - b}{1 - e^{-d(aI_{syn,E} - b)}} $$\n",
    "\n",
    "Update the firing rates of the interneurons using a threshold linear input/output function\n",
    "$$ \\begin{cases}\n",
    "  r_I = \\frac{1}{g_2}(c_II_{syn,I} - c_0) + r_0 & \\text{for } r_I\\ge 0\\\\    \n",
    "  r_I = 0     & \\text{otherwise }  \n",
    "\\end{cases} $$\n",
    "\n"
   ]
  },
  {
   "cell_type": "code",
   "execution_count": 30,
   "metadata": {},
   "outputs": [],
   "source": [
    "def current_to_frequency(input_current,population_type,parameters):\n",
    "    if population_type == 'E':\n",
    "        return current_to_frequency_E(input_current,parameters['a_E'],parameters['b_E'],parameters['d_E'])\n",
    "    if population_type == 'I':\n",
    "        return current_to_frequency_I(input_current,parameters['c_I'],parameters['r0_I'])\n",
    "\n",
    "def current_to_frequency_E(input_current1,a,b,d):\n",
    "    return np.divide((a*input_current1 - b),(1 - np.exp(-d*(a*input_current1 - b))))\n",
    "\n",
    "def current_to_frequency_I(input_current1,c_I,r_0):\n",
    "    return np.maximum(c_I*input_current1 + r_0,0) "
   ]
  },
  {
   "cell_type": "markdown",
   "metadata": {},
   "source": [
    "Define the NMDA derivative\n",
    "<br>\n",
    "$$ \\frac{dS_{NMDA}}{dt} = -\\frac{S_{NMDA}}{\\tau_{NMDA}} + (1 - S_{NMDA})\\gamma r_E$$\n",
    "(Wong & Wang, 2006)"
   ]
  },
  {
   "cell_type": "code",
   "execution_count": 31,
   "metadata": {},
   "outputs": [],
   "source": [
    "def NMDA_deriv(S_NMDA_prev,rate_now,parameters):\n",
    "    \n",
    "    return -S_NMDA_prev/parameters['tau_NMDA'] + parameters['gam']*(1 - S_NMDA_prev)*rate_now"
   ]
  },
  {
   "cell_type": "markdown",
   "metadata": {},
   "source": [
    "Define the GABA derivative\n",
    "<br>\n",
    "$$ \\frac{dS_{GABA}}{dt} = -\\frac{S_{GABA}}{\\tau_{GABA}} + \\gamma_Ir_I$$\n",
    "(Wong & Wang, 2006)"
   ]
  },
  {
   "cell_type": "code",
   "execution_count": 32,
   "metadata": {},
   "outputs": [],
   "source": [
    "def GABA_deriv(S_GABA_prev,rate_now,parameters):\n",
    "\n",
    "    return -S_GABA_prev/parameters['tau_GABA'] + rate_now "
   ]
  },
  {
   "cell_type": "markdown",
   "metadata": {},
   "source": [
    "### Model:"
   ]
  },
  {
   "cell_type": "code",
   "execution_count": 45,
   "metadata": {},
   "outputs": [],
   "source": [
    "#g_E_self, g_IE, g_I_self, g_EI\n",
    "g_E_self=0.39\n",
    "g_IE=0.23\n",
    "g_I_self=-0.05\n",
    "g_EI=-0.4\n",
    "\n",
    "parameters = {}\n",
    "\n",
    "parameters.update({ # Time constants\n",
    "                    'tau_NMDA': 0.06   * brian2.second,    # s \n",
    "                    'tau_AMPA': 0.002   * brian2.second,    # s \n",
    "                    'tau_GABA': 0.005  * brian2.second,    # s \n",
    "                    'tau_rates': 0.002 * brian2.second,    # s \n",
    "\n",
    "                    # f-I curve parameters - E populations\n",
    "                    'a_E': 270.  * brian2.Hz/brian2.nA / 2.,  # Hz/nA\n",
    "                    'b_E': 108.  * brian2.Hz / 2.,            # Hz\n",
    "                    'd_E': 0.154 * brian2.second * 2.,        # s\n",
    "                    'gam': 0.641 * 2.,                         # unitless\n",
    "\n",
    "                    # f-I curve parameters - I populations\n",
    "                    'c_I': 330 * brian2.Hz/brian2.nA,                 # Hz/nA\n",
    "                    'r0_I': -95 * brian2.Hz,\n",
    "\n",
    "                    # Strength of connections from E cells\n",
    "                    'g_E_self': g_E_self * brian2.nA ,        # nA - from E to E\n",
    "                    'g_IE': g_IE * brian2.nA ,            # nA - from E to I\n",
    "\n",
    "                    # Strength of connections from I cells\n",
    "                    'g_I_self': g_I_self  * brian2.nA,     # nA  - from I to I\n",
    "                    'g_EI': g_EI * brian2.nA,     # nA  - from I to E\n",
    "\n",
    "                    # Strength of mid-range connections (along surface)\n",
    "                    'g_E_midRange': 0.09 * brian2.nA,\n",
    "                    'g_E_longRange': 0.2 * brian2.nA,\n",
    "    \n",
    "    \n",
    "                    # Background inputs\n",
    "                    'I0_E': 0.20     * brian2.nA,           # nA - background onto E population\n",
    "                    'I0_I': 0.18      * brian2.nA,         # nA - background onto I population\n",
    "\n",
    "                    # Noise std dev\n",
    "                    'std_noise': 0.01 * brian2.nA,         # nA  - standard deviation of noise input  \n",
    "\n",
    "                    # initial values\n",
    "                    'r0_E': 5 * brian2.Hz,\n",
    "\n",
    "                    # stimulus strength\n",
    "                    'stim_strength': 0.2 * brian2.nA\n",
    "    \n",
    "                \n",
    "                        })      \n",
    "\n",
    "######## LOCAL CONNECTIVITY MATRIX ########\n",
    "J =  np.array([\n",
    "                [parameters['g_E_self'] , parameters['g_EI']],\n",
    "                [parameters['g_IE'] , parameters['g_I_self']]\n",
    "\n",
    "              ]) * brian2.amp\n",
    "\n",
    "pops = ['E','I']\n",
    "pops_column_list  = ['from '+ mystring for mystring in pops]\n",
    "pops_row_list  = ['to '+ mystring for mystring in pops]\n",
    "\n",
    "J_NMDA = J*((J>0).astype(np.int))\n",
    "J_GABA = J*((J<0).astype(np.int))\n",
    "\n",
    "df_J = pandas.DataFrame(J, columns=pops_column_list, index=pops_row_list)\n",
    "\n",
    "num_pops  = J.shape[0]\n",
    "num_vertices = 25\n",
    "\n",
    "# Choose initial values for rates and synapse variables\n",
    "R0 = np.ones((num_vertices, num_pops))\n",
    "R0 = R0 * parameters['r0_E']\n",
    "S_NMDA0 = np.ones((num_vertices,num_pops)) * 0.1\n",
    "S_GABA0 = np.zeros((num_vertices,num_pops))\n",
    "\n",
    "#### Set up simulation details\n",
    "# Set up simulation parameters\n",
    "dt=0.5 * brian2.ms  # timestep \n",
    "trial_length=5000 * brian2.ms # trial length (s)\n",
    "num_iterations = int(trial_length/dt)\n",
    "time = np.arange(0, trial_length, dt)\n",
    "\n",
    "\n",
    "# Preassign rate and synapse matrices\n",
    "R           = np.zeros((num_iterations,num_vertices,num_pops)) * brian2.Hz\n",
    "R[0,:,:]      = R0\n",
    "S_NMDA      = np.zeros((num_iterations,num_vertices,num_pops))\n",
    "S_NMDA[0,:,:] = S_NMDA0\n",
    "S_GABA      = np.zeros((num_iterations,num_vertices,num_pops))\n",
    "S_GABA[0,:,:] = S_GABA0\n",
    "\n",
    "# # Preassign external inputs\n",
    "I_ext        = np.zeros((num_iterations,num_vertices,num_pops)) * brian2.amp\n",
    "stim_on      = 1 * brian2.second #s\n",
    "stim_off     = 1.5 * brian2.second #s\n",
    "\n",
    "# Let's apply external stimulation to V1 populations E1 & E2\n",
    "V1_index = 0\n",
    "I_ext[int(stim_on/dt):int(stim_off/dt),V1_index,0] = parameters['stim_strength']\n",
    "\n",
    "# Create matrices in which we can store the currents\n",
    "I_longRange_NMDA = np.zeros((num_iterations,num_vertices,num_pops)) * brian2.pA\n",
    "I_midRange_NMDA = np.zeros((num_iterations,num_vertices,num_pops)) * brian2.pA\n",
    "I_local_NMDA =  np.zeros((num_iterations,num_vertices,num_pops)) * brian2.pA\n",
    "I_local_GABA =  np.zeros((num_iterations,num_vertices,num_pops)) * brian2.pA\n",
    "I_total      =  np.zeros((num_iterations,num_vertices,num_pops)) * brian2.pA\n",
    "I_noise      =  np.zeros((num_vertices,num_pops)) * brian2.pA\n",
    "\n",
    "# # Define background inputs\n",
    "I_0 = np.zeros((num_vertices, num_pops)) * brian2.pA\n",
    "I_0[:,pops.index('E')] = parameters['I0_E']\n",
    "I_0[:,pops.index('I')] = parameters['I0_I']\n",
    "\n",
    "# Let's set up the noise. We will model the noise as an Ornstein-Uhlenbeck process.\n",
    "# https://en.wikipedia.org/wiki/Ornstein–Uhlenbeck_process\n",
    "\n",
    "# Gaussian noise. mean 0, std 1. Dims: timesteps, local populations, areas\n",
    "eta = np.random.normal(loc=0.0, scale=1.0, size=(num_iterations,num_vertices,num_pops))\n",
    "\n",
    "# prepare the right hand side of the above equation\n",
    "noise_rhs = eta*((np.sqrt(parameters['tau_AMPA']*np.power(parameters['std_noise'],2))*np.sqrt(dt))/parameters['tau_AMPA'])\n",
    "\n",
    "#print(I_0)"
   ]
  },
  {
   "cell_type": "code",
   "execution_count": 46,
   "metadata": {},
   "outputs": [
    {
     "data": {
      "image/png": "[encoded data removed]",
      "text/plain": [
       "<Figure size 432x288 with 1 Axes>"
      ]
     },
     "metadata": {
      "needs_background": "light"
     },
     "output_type": "display_data"
    },
    {
     "data": {
      "image/png": "[encoded data removed]",
      "text/plain": [
       "<Figure size 432x288 with 1 Axes>"
      ]
     },
     "metadata": {
      "needs_background": "light"
     },
     "output_type": "display_data"
    },
    {
     "data": {
      "image/png": "[encoded data removed]",
      "text/plain": [
       "<Figure size 432x288 with 1 Axes>"
      ]
     },
     "metadata": {
      "needs_background": "light"
     },
     "output_type": "display_data"
    },
    {
     "data": {
      "image/png": "[encoded data removed]",
      "text/plain": [
       "<Figure size 432x288 with 1 Axes>"
      ]
     },
     "metadata": {
      "needs_background": "light"
     },
     "output_type": "display_data"
    },
    {
     "data": {
      "image/png": "[encoded data removed]",
      "text/plain": [
       "<Figure size 432x288 with 1 Axes>"
      ]
     },
     "metadata": {
      "needs_background": "light"
     },
     "output_type": "display_data"
    },
    {
     "data": {
      "image/png": "[encoded data removed]",
      "text/plain": [
       "<Figure size 432x288 with 1 Axes>"
      ]
     },
     "metadata": {
      "needs_background": "light"
     },
     "output_type": "display_data"
    },
    {
     "data": {
      "image/png": "[encoded data removed]",
      "text/plain": [
       "<Figure size 432x288 with 1 Axes>"
      ]
     },
     "metadata": {
      "needs_background": "light"
     },
     "output_type": "display_data"
    },
    {
     "data": {
      "image/png": "[encoded data removed]",
      "text/plain": [
       "<Figure size 432x288 with 1 Axes>"
      ]
     },
     "metadata": {
      "needs_background": "light"
     },
     "output_type": "display_data"
    },
    {
     "data": {
      "image/png": "[encoded data removed]",
      "text/plain": [
       "<Figure size 432x288 with 1 Axes>"
      ]
     },
     "metadata": {
      "needs_background": "light"
     },
     "output_type": "display_data"
    },
    {
     "data": {
      "image/png": "[encoded data removed]",
      "text/plain": [
       "<Figure size 432x288 with 1 Axes>"
      ]
     },
     "metadata": {
      "needs_background": "light"
     },
     "output_type": "display_data"
    },
    {
     "data": {
      "image/png": "[encoded data removed]",
      "text/plain": [
       "<Figure size 432x288 with 1 Axes>"
      ]
     },
     "metadata": {
      "needs_background": "light"
     },
     "output_type": "display_data"
    },
    {
     "data": {
      "image/png": "[encoded data removed]",
      "text/plain": [
       "<Figure size 432x288 with 1 Axes>"
      ]
     },
     "metadata": {
      "needs_background": "light"
     },
     "output_type": "display_data"
    },
    {
     "data": {
      "image/png": "[encoded data removed]",
      "text/plain": [
       "<Figure size 432x288 with 1 Axes>"
      ]
     },
     "metadata": {
      "needs_background": "light"
     },
     "output_type": "display_data"
    },
    {
     "data": {
      "image/png": "[encoded data removed]",
      "text/plain": [
       "<Figure size 432x288 with 1 Axes>"
      ]
     },
     "metadata": {
      "needs_background": "light"
     },
     "output_type": "display_data"
    },
    {
     "data": {
      "image/png": "[encoded data removed]",
      "text/plain": [
       "<Figure size 432x288 with 1 Axes>"
      ]
     },
     "metadata": {
      "needs_background": "light"
     },
     "output_type": "display_data"
    },
    {
     "data": {
      "image/png": "[encoded data removed]",
      "text/plain": [
       "<Figure size 432x288 with 1 Axes>"
      ]
     },
     "metadata": {
      "needs_background": "light"
     },
     "output_type": "display_data"
    },
    {
     "data": {
      "image/png": "[encoded data removed]",
      "text/plain": [
       "<Figure size 432x288 with 1 Axes>"
      ]
     },
     "metadata": {
      "needs_background": "light"
     },
     "output_type": "display_data"
    },
    {
     "data": {
      "image/png": "[encoded data removed]",
      "text/plain": [
       "<Figure size 432x288 with 1 Axes>"
      ]
     },
     "metadata": {
      "needs_background": "light"
     },
     "output_type": "display_data"
    },
    {
     "data": {
      "image/png": "[encoded data removed]",
      "text/plain": [
       "<Figure size 432x288 with 1 Axes>"
      ]
     },
     "metadata": {
      "needs_background": "light"
     },
     "output_type": "display_data"
    },
    {
     "data": {
      "image/png": "[encoded data removed]",
      "text/plain": [
       "<Figure size 432x288 with 1 Axes>"
      ]
     },
     "metadata": {
      "needs_background": "light"
     },
     "output_type": "display_data"
    },
    {
     "data": {
      "image/png": "[encoded data removed]",
      "text/plain": [
       "<Figure size 432x288 with 1 Axes>"
      ]
     },
     "metadata": {
      "needs_background": "light"
     },
     "output_type": "display_data"
    },
    {
     "data": {
      "image/png": "[encoded data removed]",
      "text/plain": [
       "<Figure size 432x288 with 1 Axes>"
      ]
     },
     "metadata": {
      "needs_background": "light"
     },
     "output_type": "display_data"
    },
    {
     "data": {
      "image/png": "[encoded data removed]",
      "text/plain": [
       "<Figure size 432x288 with 1 Axes>"
      ]
     },
     "metadata": {
      "needs_background": "light"
     },
     "output_type": "display_data"
    },
    {
     "data": {
      "image/png": "[encoded data removed]",
      "text/plain": [
       "<Figure size 432x288 with 1 Axes>"
      ]
     },
     "metadata": {
      "needs_background": "light"
     },
     "output_type": "display_data"
    },
    {
     "data": {
      "image/png": "[encoded data removed]",
      "text/plain": [
       "<Figure size 432x288 with 1 Axes>"
      ]
     },
     "metadata": {
      "needs_background": "light"
     },
     "output_type": "display_data"
    }
   ],
   "source": [
    "# Surface connectivity\n",
    "import numpy as np\n",
    "edges = {}\n",
    "num_nodes = 25\n",
    "for i in range(num_nodes):\n",
    "    e = []\n",
    "    if i >= np.sqrt(num_nodes):\n",
    "        e.append(i-np.sqrt(num_nodes))\n",
    "    if i < num_nodes-np.sqrt(num_nodes):\n",
    "        e.append(i+np.sqrt(num_nodes))\n",
    "    if i % np.sqrt(num_nodes) != 0:\n",
    "        e.append(i-1)\n",
    "    if i % np.sqrt(num_nodes) != np.sqrt(num_nodes)-1:\n",
    "        e.append(i+1)\n",
    "    edges.update({\n",
    "        str(i): [int(j) for j in e]\n",
    "    })\n",
    "surface_connectivity = np.zeros((num_nodes,num_nodes))\n",
    "for i in range(num_nodes):\n",
    "    surface_connectivity[i,edges[str(i)]] = 1\n",
    "\n",
    "# check connectivity:\n",
    "import matplotlib.pylab as plt\n",
    "for i in range(num_nodes):\n",
    "    plt.imshow(np.reshape(surface_connectivity[:,i],(5,5)))\n",
    "    plt.show()\n"
   ]
  },
  {
   "cell_type": "code",
   "execution_count": 47,
   "metadata": {},
   "outputs": [
    {
     "data": {
      "text/plain": [
       "<matplotlib.image.AxesImage at 0xb26e27290>"
      ]
     },
     "execution_count": 47,
     "metadata": {},
     "output_type": "execute_result"
    },
    {
     "data": {
      "image/png": "[encoded data removed]",
      "text/plain": [
       "<Figure size 432x288 with 1 Axes>"
      ]
     },
     "metadata": {
      "needs_background": "light"
     },
     "output_type": "display_data"
    }
   ],
   "source": [
    "# White matter tract connectivity\n",
    "tract_connectivity = np.zeros((num_nodes,num_nodes))\n",
    "# Load in Henry Kennedy's tract-tracing data as an example of realistic connectivity \n",
    "# (although bear in mind that it's at the level of areas, not vertices)\n",
    "\n",
    "subgraph_data = sio.loadmat('ordered_SLN_FLN_29_subgraph.mat')\n",
    "fln = subgraph_data['OrderedFLNmat']\n",
    "fln_25 = fln[:25,:25]\n",
    "\n",
    "# Normalise inputs to sum to 1\n",
    "fln_rowtotal = np.sum(fln_25,axis=1)\n",
    "fln_rowtotal_mat = np.matlib.repmat(fln_rowtotal, num_nodes,1).T\n",
    "tract_connectivity = fln_25/fln_rowtotal_mat\n",
    "\n",
    "plt.imshow(tract_connectivity, extent=[0, 1, 0, 1])"
   ]
  },
  {
   "cell_type": "code",
   "execution_count": null,
   "metadata": {},
   "outputs": [],
   "source": [
    "#### Run model:\n",
    "for i_t in range(1,num_iterations):\n",
    "\n",
    "    # update noise - dims = num local pops x num areas\n",
    "    I_noise = I_noise + -I_noise*(dt/parameters['tau_AMPA']) + noise_rhs[i_t-1,:,:]\n",
    "\n",
    "    # long range NMDA (along white matter tracts)\n",
    "    I_longRange_NMDA[i_t-1,:,:] = parameters['g_E_longRange'] * tract_connectivity.dot(S_NMDA[i_t-1,:,:])\n",
    "    \n",
    "    # mid range NMDA (along surface)\n",
    "    I_midRange_NMDA[i_t-1,:,:] = parameters['g_E_midRange'] * surface_connectivity.dot(S_NMDA[i_t-1,:,:])\n",
    "    \n",
    "    # local NMDA\n",
    "    I_local_NMDA[i_t-1,:,:] = J_NMDA.dot(S_NMDA[i_t-1,:,:].T).T\n",
    "    \n",
    "    # sum up all the local GABA current onto E and I cell somas\n",
    "    I_local_GABA[i_t-1,:,:] = J_GABA.dot(S_GABA[i_t-1,:,:].T).T\n",
    "\n",
    "    # Define total input current as sum of local NMDA & GABA inputs, with background, external currents & noise & longRange\n",
    "    I_total[i_t-1,:,:] = I_local_NMDA[i_t-1,:,:] +  I_local_GABA[i_t-1,:,:] + I_0 + I_ext[i_t-1,:,:] + I_noise + I_midRange_NMDA[i_t-1,:,:] + I_longRange_NMDA[i_t-1,:,:]\n",
    "\n",
    "    # Update the firing rates of the excitatory population\n",
    "    R[i_t,:,0] = R[i_t-1,:,0] + dt*current_to_frequency(I_total[i_t-1,:,0],'E',parameters)/parameters['tau_rates']-dt*R[i_t-1,:,0]/parameters['tau_rates']\n",
    "\n",
    "    # Update the firing rates of the inhibitory population. \n",
    "    R[i_t,:,1] = R[i_t-1,:,1] + dt*current_to_frequency(I_total[i_t-1,:,1],'I',parameters)/parameters['tau_rates']-dt*R[i_t-1,:,1]/parameters['tau_rates']\n",
    "\n",
    "    # Update the NMDA synapses\n",
    "    S_NMDA[i_t,:,0] = S_NMDA[i_t-1,:,0] + dt*NMDA_deriv(S_NMDA[i_t-1,:,0],R[i_t,:,0],parameters)\n",
    "\n",
    "    # Update the GABA synapses\n",
    "    S_GABA[i_t,:,1] = S_GABA[i_t-1,:,1] + dt*GABA_deriv(S_GABA[i_t-1,:,1],R[i_t,:,1],parameters)\n"
   ]
  },
  {
   "cell_type": "code",
   "execution_count": null,
   "metadata": {},
   "outputs": [],
   "source": [
    "fig=plt.figure(figsize=(30,30), dpi= 80, facecolor='w', edgecolor='k')\n",
    "plt.rcParams.update({'font.size': 12})\n",
    "start_time = 0.5 #seconds\n",
    "end_time = 3.5 #seconds\n",
    "\n",
    "for i in range(1,num_vertices+1):\n",
    "    ax = plt.subplot(np.sqrt(num_vertices), np.sqrt(num_vertices), i)    \n",
    "\n",
    "    # Plot E population rates\n",
    "    plt.plot(np.arange((start_time-1)*brian2.second,(end_time-1)*brian2.second,dt),R[np.arange(int(start_time/dt),int(end_time/dt),1),i-1,0],color='r')\n",
    "    # Plot I population rates\n",
    "    plt.plot(np.arange((start_time-1)*brian2.second,(end_time-1)*brian2.second,dt),R[np.arange(int(start_time/dt),int(end_time/dt),1),i-1,1],color='b')\n",
    "\n",
    "    # Plot the stimulation time\n",
    "    plt.plot([stim_on-1*brian2.second,stim_off-1*brian2.second],[np.max(R+0.05*np.max(R)),np.max(R+0.05*np.max(R))],color='r',linewidth=5.0)\n",
    "\n",
    "    # place text above the stimulation line\n",
    "    axes = plt.gca()\n",
    "    axes.text(0.15, 1.2,'External stimulation', transform=axes.transAxes, fontsize=10, verticalalignment='top')\n",
    "\n",
    "    plt.legend(['E','I'])\n",
    "    plt.xlabel('time (s)')\n",
    "    plt.ylabel('firing rate (Hz)')\n",
    "    # plt.ylim(0, 80) \n",
    "\n",
    "plt.show()"
   ]
  },
  {
   "cell_type": "code",
   "execution_count": 254,
   "metadata": {},
   "outputs": [],
   "source": [
    "# Notes (4.4.19):\n",
    "# 1. increase inhibition firing rate compared to excitatory populations\n",
    "# 2. AMPA receptors? \n",
    "# 3. Delays?\n",
    "# 4. Mechanism such that firing dies off? Oscillating?\n",
    "# 5. Bring in heterogeneity\n",
    "# 6. real structural basis for connectivity data"
   ]
  },
  {
   "cell_type": "code",
   "execution_count": null,
   "metadata": {},
   "outputs": [],
   "source": []
  },
  {
   "cell_type": "code",
   "execution_count": null,
   "metadata": {},
   "outputs": [],
   "source": []
  },
  {
   "cell_type": "code",
   "execution_count": null,
   "metadata": {},
   "outputs": [],
   "source": []
  },
  {
   "cell_type": "code",
   "execution_count": null,
   "metadata": {},
   "outputs": [],
   "source": []
  },
  {
   "cell_type": "code",
   "execution_count": null,
   "metadata": {},
   "outputs": [],
   "source": []
  },
  {
   "cell_type": "code",
   "execution_count": null,
   "metadata": {},
   "outputs": [],
   "source": []
  },
  {
   "cell_type": "code",
   "execution_count": null,
   "metadata": {},
   "outputs": [],
   "source": []
  },
  {
   "cell_type": "code",
   "execution_count": null,
   "metadata": {},
   "outputs": [],
   "source": []
  }
 ],
 "metadata": {
  "kernelspec": {
   "display_name": "Python 2",
   "language": "python",
   "name": "python2"
  },
  "language_info": {
   "codemirror_mode": {
    "name": "ipython",
    "version": 2
   },
   "file_extension": ".py",
   "mimetype": "text/x-python",
   "name": "python",
   "nbconvert_exporter": "python",
   "pygments_lexer": "ipython2",
   "version": "2.7.15"
  }
 },
 "nbformat": 4,
 "nbformat_minor": 2
}
