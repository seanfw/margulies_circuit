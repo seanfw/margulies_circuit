{
 "cells": [
  {
   "cell_type": "markdown",
   "metadata": {},
   "source": [
    "Let's try to plot the phase portrait and bifurcation diagram of the E-I model.\n",
    "\n",
    "Do this bit without the noise"
   ]
  },
  {
   "cell_type": "code",
   "execution_count": 1,
   "metadata": {},
   "outputs": [],
   "source": [
    "# let's get what we need together\n",
    "from __future__ import division\n",
    "import PyDSTool as dst\n",
    "import numpy as np\n",
    "from matplotlib import pyplot as plt\n",
    "%matplotlib inline\n",
    "import pandas\n",
    "import scipy.io as si\n",
    "import brian2"
   ]
  },
  {
   "cell_type": "code",
   "execution_count": 2,
   "metadata": {},
   "outputs": [
    {
     "ename": "IndexError",
     "evalue": "only integers, slices (`:`), ellipsis (`...`), numpy.newaxis (`None`) and integer or boolean arrays are valid indices",
     "output_type": "error",
     "traceback": [
      "\u001b[0;31m---------------------------------------------------------------------------\u001b[0m",
      "\u001b[0;31mIndexError\u001b[0m                                Traceback (most recent call last)",
      "\u001b[0;32m<ipython-input-2-f623e3df7e4d>\u001b[0m in \u001b[0;36m<module>\u001b[0;34m()\u001b[0m\n\u001b[1;32m     52\u001b[0m \u001b[0;34m\u001b[0m\u001b[0m\n\u001b[1;32m     53\u001b[0m \u001b[0;31m# Find the fixed points\u001b[0m\u001b[0;34m\u001b[0m\u001b[0;34m\u001b[0m\u001b[0m\n\u001b[0;32m---> 54\u001b[0;31m \u001b[0mfp_coord\u001b[0m \u001b[0;34m=\u001b[0m \u001b[0mpp\u001b[0m\u001b[0;34m.\u001b[0m\u001b[0mfind_fixedpoints\u001b[0m\u001b[0;34m(\u001b[0m\u001b[0mdmModel\u001b[0m\u001b[0;34m,\u001b[0m \u001b[0mn\u001b[0m\u001b[0;34m=\u001b[0m\u001b[0;36m12\u001b[0m\u001b[0;34m)\u001b[0m\u001b[0;34m\u001b[0m\u001b[0m\n\u001b[0m\u001b[1;32m     55\u001b[0m \u001b[0;34m\u001b[0m\u001b[0m\n\u001b[1;32m     56\u001b[0m \u001b[0;34m\u001b[0m\u001b[0m\n",
      "\u001b[0;32m/Users/seanfw/miniconda2/envs/surfgradmodel/lib/python2.7/site-packages/PyDSTool/Toolbox/phaseplane.py\u001b[0m in \u001b[0;36mfind_fixedpoints\u001b[0;34m(gen, subdomain, n, maxsearch, eps, t, jac)\u001b[0m\n\u001b[1;32m   1348\u001b[0m         \u001b[0;32mreturn\u001b[0m \u001b[0mPoint\u001b[0m\u001b[0;34m(\u001b[0m\u001b[0mdict\u001b[0m\u001b[0;34m(\u001b[0m\u001b[0mzip\u001b[0m\u001b[0;34m(\u001b[0m\u001b[0mx0_names\u001b[0m\u001b[0;34m,\u001b[0m\u001b[0ma\u001b[0m\u001b[0;34m)\u001b[0m\u001b[0;34m)\u001b[0m\u001b[0;34m)\u001b[0m\u001b[0;34m\u001b[0m\u001b[0m\n\u001b[1;32m   1349\u001b[0m     \u001b[0;32mfor\u001b[0m \u001b[0mdummy_ix\u001b[0m \u001b[0;32min\u001b[0m \u001b[0mrange\u001b[0m\u001b[0;34m(\u001b[0m\u001b[0mn\u001b[0m\u001b[0;34m**\u001b[0m\u001b[0mD\u001b[0m\u001b[0;34m)\u001b[0m\u001b[0;34m:\u001b[0m\u001b[0;34m\u001b[0m\u001b[0m\n\u001b[0;32m-> 1350\u001b[0;31m         \u001b[0mx0\u001b[0m \u001b[0;34m=\u001b[0m \u001b[0marray\u001b[0m\u001b[0;34m(\u001b[0m\u001b[0;34m[\u001b[0m\u001b[0mx0_coords\u001b[0m\u001b[0;34m[\u001b[0m\u001b[0mi\u001b[0m\u001b[0;34m]\u001b[0m\u001b[0;34m[\u001b[0m\u001b[0md_posns\u001b[0m\u001b[0;34m[\u001b[0m\u001b[0mi\u001b[0m\u001b[0;34m]\u001b[0m\u001b[0;34m]\u001b[0m \u001b[0;32mfor\u001b[0m \u001b[0mi\u001b[0m \u001b[0;32min\u001b[0m \u001b[0mrange\u001b[0m\u001b[0;34m(\u001b[0m\u001b[0mD\u001b[0m\u001b[0;34m)\u001b[0m\u001b[0;34m]\u001b[0m\u001b[0;34m)\u001b[0m\u001b[0;34m\u001b[0m\u001b[0m\n\u001b[0m\u001b[1;32m   1351\u001b[0m         \u001b[0;31m# TEST\u001b[0m\u001b[0;34m\u001b[0m\u001b[0;34m\u001b[0m\u001b[0m\n\u001b[1;32m   1352\u001b[0m         \u001b[0;31m#sol = root(Rhs_wrap, x0, (t,gen.pars), method='hybr',\u001b[0m\u001b[0;34m\u001b[0m\u001b[0;34m\u001b[0m\u001b[0m\n",
      "\u001b[0;31mIndexError\u001b[0m: only integers, slices (`:`), ellipsis (`...`), numpy.newaxis (`None`) and integer or boolean arrays are valid indices"
     ]
    },
    {
     "data": {
      "image/png": "[encoded data removed]",
      "text/plain": [
       "<Figure size 432x288 with 1 Axes>"
      ]
     },
     "metadata": {
      "needs_background": "light"
     },
     "output_type": "display_data"
    }
   ],
   "source": [
    "# we must give a name\n",
    "DSargs = dst.args(name='E-I_model')\n",
    "\n",
    "# parameters\n",
    "DSargs.pars = { 'tau_NMDA': 0.06,\n",
    "                'tau_GABA': 0.005,\n",
    "                'a_E': 270.,\n",
    "                'b_E': 108.,\n",
    "                'd_E': 0.154,\n",
    "                'a_I': 615,\n",
    "                'b_I': 177,\n",
    "                'd_I': 0.087,\n",
    "                'gam': 0.641,\n",
    "                'g_Eself': 0.52,\n",
    "                'g_IE':   0.25,\n",
    "                'g_EI': - 0.35,\n",
    "                'g_Iself': - 0.2,\n",
    "                'I_0': 0.31,\n",
    "                'I_ext': 0}\n",
    "\n",
    "# auxiliary functions: fI curve and recurrent current\n",
    "DSargs.fnspecs  = {\n",
    "    'fI_E': (['I'], '(a_E*I-b_E)/(1.0 - exp(-d_E*(a_E*I-b_E)))'),\n",
    "    'fI_I': (['I'], '(a_I*I-b_I)/(1.0 - exp(-d_I*(a_I*I-b_I)))'),\n",
    "    'recCurrE': (['x', 'y'], 'g_Eself*x + g_EI*y + I_0'),\n",
    "    'recCurrI': (['x', 'y'], 'g_Iself*x + g_IE*y + I_0')\n",
    "}\n",
    "\n",
    "# rhs of the differential equations\n",
    "DSargs.varspecs = {'S_NMDA': '(-S_NMDA/tau_NMDA + gam*(1.0 - S_NMDA)*fI_E(recCurrE(S_NMDA,S_GABA) + I_ext))',\n",
    "                   'S_GABA': ' -S_GABA/tau_GABA + fI_I(recCurrI(S_GABA,S_NMDA))'}\n",
    "\n",
    "# initial conditions\n",
    "DSargs.ics = {'S_NMDA': 0.01, 'S_GABA': 0.01}\n",
    "\n",
    "# set the range of integration\n",
    "DSargs.tdomain = [0,10]\n",
    "\n",
    "# variable domain for the phase plane analysis\n",
    "DSargs.xdomain = {'S_GABA': [0.0,1.0], 'S_NMDA': [0.0,1.0]}\n",
    "\n",
    "# variable domain for the phase plane analysis\n",
    "DSargs.pdomain = {'I_ext': [0,0.3] }\n",
    "\n",
    "# Create the model object\n",
    "dmModel = dst.Vode_ODEsystem(DSargs)\n",
    "\n",
    "# Open a figure and plot the vector field\n",
    "from PyDSTool.Toolbox import phaseplane as pp\n",
    "\n",
    "pp.plot_PP_vf(dmModel,'S_GABA','S_NMDA',N=14, scale_exp=-1)\n",
    "\n",
    "# Find the fixed points\n",
    "fp_coord = pp.find_fixedpoints(dmModel, n=12)\n",
    "\n",
    "\n",
    "# # Find and plot the nullclines\n",
    "# nulls_x, nulls_y = pp.find_nullclines(dmModel, 'S_NMDA', 'S_GABA', n=3, eps=1e-8,max_step=0.01,fps=fp_coord)\n",
    "\n",
    "# plt.plot(nulls_x[:,1], nulls_x[:,0],'b')\n",
    "# plt.plot(nulls_y[:,1], nulls_y[:,0],'g')\n",
    "\n",
    "# # Compute the jacobian to determine the stability of the fixed points\n",
    "# jac, new_fnspecs = \\\n",
    "# dst.prepJacobian(dmModel.funcspec._initargs['varspecs'],\n",
    "# ['S_GABA', 'S_NMDA'], dmModel.funcspec._initargs['fnspecs'])\n",
    "# scope = dst.copy(dmModel.pars)\n",
    "# scope.update(new_fnspecs)\n",
    "# jac_fn = dst.expr2fun(jac, ensure_args=['t'], **scope)\n",
    "\n",
    "# # add fixed points to the phase portrait\n",
    "\n",
    "# for i in range(0,len(fp_coord)):\n",
    "#     fp = pp.fixedpoint_2D(dmModel,dst.Point(fp_coord[i]),\n",
    "#                          jac = jac_fn, eps=1e-8)\n",
    "#     pp.plot_PP_fps(fp)\n",
    "    \n",
    "# # compute an example trajectory\n",
    "# traj = dmModel.compute('trajectory1')\n",
    "# pts = traj.sample()\n",
    "# plt.plot(pts['S_GABA'],pts['S_NMDA'],'r-o')"
   ]
  },
  {
   "cell_type": "markdown",
   "metadata": {},
   "source": [
    "Now let's sketch the bifurcation diagram"
   ]
  },
  {
   "cell_type": "code",
   "execution_count": null,
   "metadata": {},
   "outputs": [],
   "source": [
    "# Set the lower bound of the control (bifurcation) parameter\n",
    "dmModel.set(pars = {'g_Eself': 0.45})\n",
    "\n",
    "# initial conditions # Close to one of the steady states\n",
    "dmModel.set(ics = {'S_NMDA': 0.01, 'S_GABA': 0.01})\n",
    "\n",
    "# Set up continuation class\n",
    "PC = dst.ContClass(dmModel)\n",
    "\n",
    "# Equilibrium point curve (EP-C). The branch is labeled EQ1:\n",
    "PCargs = dst.args(name='EQ1', type='EP-C')\n",
    "PCargs.freepars = ['g_Eself'] # control parameter\n",
    "PCargs.MaxNumPoints = 1000\n",
    "PCargs.MaxStepSize  = 1e-4\n",
    "PCargs.MinStepSize  = 1e-5\n",
    "PCargs.StepSize     = 1e-3\n",
    "PCargs.LocBifPoints = ['all'] #['LP','BP']   # detect limit and saddle-node bifurcation types\n",
    "PCargs.SaveEigen = True # to determine the stability of branches\n",
    "\n",
    "PC.newCurve(PCargs)\n",
    "\n",
    "PC['EQ1'].forward()\n",
    "\n",
    "PC['EQ1'].display(['g_Eself','S_NMDA'], stability=True, figure=1)"
   ]
  },
  {
   "cell_type": "code",
   "execution_count": null,
   "metadata": {
    "collapsed": true
   },
   "outputs": [],
   "source": []
  }
 ],
 "metadata": {
  "kernelspec": {
   "display_name": "Python 2",
   "language": "python",
   "name": "python2"
  },
  "language_info": {
   "codemirror_mode": {
    "name": "ipython",
    "version": 2
   },
   "file_extension": ".py",
   "mimetype": "text/x-python",
   "name": "python",
   "nbconvert_exporter": "python",
   "pygments_lexer": "ipython2",
   "version": "2.7.16"
  }
 },
 "nbformat": 4,
 "nbformat_minor": 2
}
