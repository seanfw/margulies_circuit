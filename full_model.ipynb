{
 "cells": [
  {
   "cell_type": "code",
   "execution_count": 10,
   "metadata": {},
   "outputs": [
    {
     "data": {
      "text/plain": [
       "'3.6.8 |Anaconda custom (64-bit)| (default, Dec 29 2018, 19:04:46) \\n[GCC 4.2.1 Compatible Clang 4.0.1 (tags/RELEASE_401/final)]'"
      ]
     },
     "execution_count": 10,
     "metadata": {},
     "output_type": "execute_result"
    }
   ],
   "source": [
    "%matplotlib inline\n",
    "\n",
    "#from __future__ import division\n",
    "import numpy as np\n",
    "import numpy.matlib\n",
    "import matplotlib.pyplot as plt\n",
    "import pandas\n",
    "import scipy.io as sio\n",
    "import brian2\n",
    "import os\n",
    "import copy\n",
    "import numba\n",
    "import nibabel as nib\n",
    "import networkx as nx\n",
    "\n",
    "# !pip install git+https://github.com/NeuroanatomyAndConnectivity/surfdist.git\n",
    "import surfdist\n",
    "from surfdist import utils, load\n",
    "\n",
    "import nilearn\n",
    "from nilearn import plotting\n",
    "\n",
    "import sys\n",
    "sys.version"
   ]
  },
  {
   "cell_type": "code",
   "execution_count": 11,
   "metadata": {},
   "outputs": [],
   "source": [
    "def current_to_frequency(input_current,population_type,parameters):\n",
    "    if population_type == 'E':\n",
    "        return current_to_frequency_E(input_current,parameters['a_E'],parameters['b_E'],parameters['d_E'])\n",
    "    if population_type == 'I':\n",
    "        return current_to_frequency_I(input_current,parameters['c_I'],parameters['r0_I'])\n",
    "\n",
    "def current_to_frequency_E(input_current1,a,b,d):\n",
    "    return np.divide((a*input_current1 - b),(1 - np.exp(-d*(a*input_current1 - b))))\n",
    "\n",
    "def current_to_frequency_I(input_current1,c_I,r_0):\n",
    "    return np.maximum(c_I*input_current1 + r_0,0) \n",
    "\n",
    "def NMDA_deriv(S_NMDA_prev,rate_now,parameters):\n",
    "    return -S_NMDA_prev/parameters['tau_NMDA'] + parameters['gam']*(1 - S_NMDA_prev)*rate_now\n",
    "\n",
    "def GABA_deriv(S_GABA_prev,rate_now,parameters):\n",
    "    return -S_GABA_prev/parameters['tau_GABA'] + rate_now "
   ]
  },
  {
   "cell_type": "code",
   "execution_count": 45,
   "metadata": {},
   "outputs": [
    {
     "data": {
      "text/plain": [
       "\"\\nlab = nib.load('conn_data/Glasser_NetworkPartition_v9.fsa3.L.label.gii')\\nlabels3 = lab.darrays[0].data\\nplotting.plot_surf_stat_map('fsaverage3/lh.inflated', labels3)\\n\""
      ]
     },
     "execution_count": 45,
     "metadata": {},
     "output_type": "execute_result"
    }
   ],
   "source": [
    "# Mid-distance connectivity\n",
    "\n",
    "surf = nib.freesurfer.read_geometry('fsaverage3/lh.pial')\n",
    "cortex = np.sort(nib.freesurfer.read_label('fsaverage3/lh.cortex.label'))\n",
    "surf_new = surfdist.utils.surf_keep_cortex(surf, cortex)\n",
    "num_nodes = len(surf_new[0])\n",
    "\n",
    "g = nx.Graph()\n",
    "for x,y,z in surf_new[1]:\n",
    "    g.add_edge(x,y)\n",
    "    g.add_edge(y,z)\n",
    "\n",
    "surface_connectivity = np.zeros((num_nodes,num_nodes))\n",
    "for k in range(len(g.nodes)):\n",
    "    for i in [j for j in g.neighbors(k)]:\n",
    "        surface_connectivity[k, i] = 1\n",
    "    \n",
    "'''\n",
    "labels6 = nib.load('conn_data/Glasser_NetworkPartition_v9.fsa6.L.label.gii').darrays[0].data\n",
    "plotting.plot_surf_stat_map('/Applications/freesurfer/subjects/fsaverage6/surf/lh.inflated', labels6)\n",
    "'''\n",
    "'''\n",
    "lab = nib.load('conn_data/Glasser_NetworkPartition_v9.fsa3.L.label.gii')\n",
    "labels3 = lab.darrays[0].data\n",
    "plotting.plot_surf_stat_map('fsaverage3/lh.inflated', labels3)\n",
    "'''"
   ]
  },
  {
   "cell_type": "code",
   "execution_count": 71,
   "metadata": {},
   "outputs": [
    {
     "data": {
      "text/plain": [
       "\"\\n# viz:\\ntest = sd.utils.recort(tract_connectivity[20,:], surf, cortex)\\nplotting.plot_surf_stat_map('fsaverage3/lh.inflated', test)\\n\""
      ]
     },
     "execution_count": 71,
     "metadata": {},
     "output_type": "execute_result"
    }
   ],
   "source": [
    "# White matter tract connectivity\n",
    "\n",
    "tract_connectivity = np.zeros((num_nodes,num_nodes))\n",
    "\n",
    "# load Murray data from Balsa:\n",
    "conn_mat = np.asarray(nib.load('conn_data/average_sc.pconn.nii').get_data())\n",
    "\n",
    "# load labels:\n",
    "labels = np.concatenate((nib.load('conn_data/Glasser_NetworkPartition_v9.fsa3.L.label.gii').darrays[0].data, \n",
    "                         nib.load('conn_data/Glasser_NetworkPartition_v9.fsa3.R.label.gii').darrays[0].data))\n",
    "\n",
    "# load labels for only left hemisphere:\n",
    "labels = nib.load('conn_data/Glasser_NetworkPartition_v9.fsa3.L.label.gii').darrays[0].data[cortex]\n",
    "\n",
    "# resample to surface:\n",
    "conn_mat_vert = conn_mat[labels-1,:][:,labels-1]\n",
    "\n",
    "# normalize so that rows sum to 1:\n",
    "conn_mat_rowtotal = np.sum(conn_mat_vert,axis=1)\n",
    "conn_rowtotal_mat = np.matlib.repmat(conn_mat_rowtotal, num_nodes, 1).T\n",
    "tract_connectivity = conn_mat_vert/conn_rowtotal_mat\n",
    "\n",
    "'''\n",
    "# viz:\n",
    "test = sd.utils.recort(tract_connectivity[20,:], surf, cortex)\n",
    "plotting.plot_surf_stat_map('fsaverage3/lh.inflated', test)\n",
    "'''"
   ]
  },
  {
   "cell_type": "code",
   "execution_count": 72,
   "metadata": {},
   "outputs": [],
   "source": [
    "#g_E_self, g_IE, g_I_self, g_EI\n",
    "g_E_self=0.39\n",
    "g_IE=0.23\n",
    "g_I_self=-0.05\n",
    "g_EI=-0.4\n",
    "\n",
    "parameters = {}\n",
    "\n",
    "parameters.update({ # Time constants\n",
    "                    'tau_NMDA': 0.06   * brian2.second,    # s \n",
    "                    'tau_AMPA': 0.002   * brian2.second,    # s \n",
    "                    'tau_GABA': 0.005  * brian2.second,    # s \n",
    "                    'tau_rates': 0.002 * brian2.second,    # s \n",
    "\n",
    "                    # f-I curve parameters - E populations\n",
    "                    'a_E': 270.  * brian2.Hz/brian2.nA / 2.,  # Hz/nA\n",
    "                    'b_E': 108.  * brian2.Hz / 2.,            # Hz\n",
    "                    'd_E': 0.154 * brian2.second * 2.,        # s\n",
    "                    'gam': 0.641 * 2.,                         # unitless\n",
    "\n",
    "                    # f-I curve parameters - I populations\n",
    "                    'c_I': 330 * brian2.Hz/brian2.nA,                 # Hz/nA\n",
    "                    'r0_I': -95 * brian2.Hz,\n",
    "\n",
    "                    # Strength of connections from E cells\n",
    "                    'g_E_self': g_E_self * brian2.nA ,        # nA - from E to E\n",
    "                    'g_IE': g_IE * brian2.nA ,            # nA - from E to I\n",
    "\n",
    "                    # Strength of connections from I cells\n",
    "                    'g_I_self': g_I_self  * brian2.nA,     # nA  - from I to I\n",
    "                    'g_EI': g_EI * brian2.nA,     # nA  - from I to E\n",
    "\n",
    "                    # Strength of mid-range connections (along surface)\n",
    "                    'g_E_midRange': 0.09 * brian2.nA,\n",
    "                    'g_E_longRange': 0.2 * brian2.nA,\n",
    "    \n",
    "    \n",
    "                    # Background inputs\n",
    "                    'I0_E': 0.20     * brian2.nA,           # nA - background onto E population\n",
    "                    'I0_I': 0.18      * brian2.nA,         # nA - background onto I population\n",
    "\n",
    "                    # Noise std dev\n",
    "                    'std_noise': 0.01 * brian2.nA,         # nA  - standard deviation of noise input  \n",
    "\n",
    "                    # initial values\n",
    "                    'r0_E': 5 * brian2.Hz,\n",
    "\n",
    "                    # stimulus strength\n",
    "                    'stim_strength': 0.2 * brian2.nA\n",
    "                        })      \n",
    "\n",
    "######## LOCAL CONNECTIVITY MATRIX ########\n",
    "J =  np.array([\n",
    "                [parameters['g_E_self'] , parameters['g_EI']],\n",
    "                [parameters['g_IE'] , parameters['g_I_self']]\n",
    "\n",
    "              ]) * brian2.amp\n",
    "\n",
    "pops = ['E','I']\n",
    "pops_column_list  = ['from '+ mystring for mystring in pops]\n",
    "pops_row_list  = ['to '+ mystring for mystring in pops]\n",
    "\n",
    "J_NMDA = J*((J>0).astype(np.int))\n",
    "J_GABA = J*((J<0).astype(np.int))\n",
    "\n",
    "df_J = pandas.DataFrame(J, columns=pops_column_list, index=pops_row_list)\n",
    "\n",
    "num_pops  = J.shape[0]\n",
    "\n",
    "# Choose initial values for rates and synapse variables\n",
    "R0 = np.ones((num_nodes, num_pops))\n",
    "R0 = R0 * parameters['r0_E']\n",
    "S_NMDA0 = np.ones((num_nodes,num_pops)) * 0.1\n",
    "S_GABA0 = np.zeros((num_nodes,num_pops))\n",
    "\n",
    "#### Set up simulation details\n",
    "# Set up simulation parameters\n",
    "dt=0.5 * brian2.ms  # timestep \n",
    "trial_length=5000 * brian2.ms # trial length (s)\n",
    "num_iterations = int(trial_length/dt)\n",
    "time = np.arange(0, trial_length, dt)\n",
    "\n",
    "\n",
    "# Preassign rate and synapse matrices\n",
    "R           = np.zeros((num_iterations,num_nodes,num_pops)) * brian2.Hz\n",
    "R[0,:,:]      = R0\n",
    "S_NMDA      = np.zeros((num_iterations,num_nodes,num_pops))\n",
    "S_NMDA[0,:,:] = S_NMDA0\n",
    "S_GABA      = np.zeros((num_iterations,num_nodes,num_pops))\n",
    "S_GABA[0,:,:] = S_GABA0\n",
    "\n",
    "# # Preassign external inputs\n",
    "I_ext        = np.zeros((num_iterations,num_nodes,num_pops)) * brian2.amp\n",
    "stim_on      = 1 * brian2.second #s\n",
    "stim_off     = 1.5 * brian2.second #s\n",
    "\n",
    "# Let's apply external stimulation to V1 populations E1 & E2\n",
    "V1_index = 0\n",
    "I_ext[int(stim_on/dt):int(stim_off/dt),V1_index,0] = parameters['stim_strength']\n",
    "\n",
    "# Create matrices in which we can store the currents\n",
    "I_longRange_NMDA = np.zeros((num_iterations,num_nodes,num_pops)) * brian2.pA\n",
    "I_midRange_NMDA = np.zeros((num_iterations,num_nodes,num_pops)) * brian2.pA\n",
    "I_local_NMDA =  np.zeros((num_iterations,num_nodes,num_pops)) * brian2.pA\n",
    "I_local_GABA =  np.zeros((num_iterations,num_nodes,num_pops)) * brian2.pA\n",
    "I_total      =  np.zeros((num_iterations,num_nodes,num_pops)) * brian2.pA\n",
    "I_noise      =  np.zeros((num_nodes,num_pops)) * brian2.pA\n",
    "\n",
    "# # Define background inputs\n",
    "I_0 = np.zeros((num_nodes, num_pops)) * brian2.pA\n",
    "I_0[:,pops.index('E')] = parameters['I0_E']\n",
    "I_0[:,pops.index('I')] = parameters['I0_I']\n",
    "\n",
    "# Let's set up the noise. We will model the noise as an Ornstein-Uhlenbeck process.\n",
    "# https://en.wikipedia.org/wiki/Ornstein–Uhlenbeck_process\n",
    "\n",
    "# Gaussian noise. mean 0, std 1. Dims: timesteps, local populations, areas\n",
    "eta = np.random.normal(loc=0.0, scale=1.0, size=(num_iterations,num_nodes,num_pops))\n",
    "\n",
    "# prepare the right hand side of the above equation\n",
    "noise_rhs = eta*((np.sqrt(parameters['tau_AMPA']*np.power(parameters['std_noise'],2))*np.sqrt(dt))/parameters['tau_AMPA'])\n",
    "\n",
    "#print(I_0)"
   ]
  },
  {
   "cell_type": "code",
   "execution_count": 73,
   "metadata": {},
   "outputs": [],
   "source": [
    "# DELAYS\n",
    "\n",
    "# Along the surface, all nodes area neighbours. They are ~1mm apart. \n",
    "# Activity propagates along the surface at about 0.33 m/s = 330mm/s = 0.33mm/ms = 0.165 mm/dt\n",
    "# Therefore there is a delay of about 6 timesteps for activity propagation along the surface\n",
    "# (Girard, Hupé & Bullier, J Neurophysiol, 2001)\n",
    "\n",
    "# Along the white matter, there are connections of different lengths.\n",
    "\n",
    "# euclidean distance between nodes:\n",
    "\n",
    "from scipy.spatial import distance_matrix\n",
    "\n",
    "distances = distance_matrix(surf_new[0], surf_new[0]) # this is distance in vertices - let's assume = 1mm\n",
    "\n",
    "tract_delays = numpy.round(distances/1.75, decimals=0) # in units of timesteps\n",
    "\n",
    "# In the white matter, activity propagates at about 3.5m/s, but it might propagate more quickly for \n",
    "# longer/larger tracts. \n",
    "# 3.5 m/s = 3.5mm/ms = 1.75mm/dt\n",
    "# (Girard, Hupé & Bullier, J Neurophysiol, 2001)\n",
    "\n"
   ]
  },
  {
   "cell_type": "code",
   "execution_count": 74,
   "metadata": {},
   "outputs": [],
   "source": [
    "#### Run model:\n",
    "for i_t in range(1,num_iterations):\n",
    "\n",
    "    # update noise - dims = num local pops x num areas\n",
    "    I_noise = I_noise + -I_noise*(dt/parameters['tau_AMPA']) + noise_rhs[i_t-1,:,:]\n",
    "\n",
    "    # long range NMDA (along white matter tracts)\n",
    "    I_longRange_NMDA[i_t-1,:,:] = parameters['g_E_longRange'] * tract_connectivity.dot(S_NMDA[i_t-1,:,:])\n",
    "    \n",
    "    # mid range NMDA (along surface), with a 6 timestep delay\n",
    "    I_midRange_NMDA[i_t-1,:,:] = parameters['g_E_midRange'] * surface_connectivity.dot(S_NMDA[i_t-7,:,:])\n",
    "    \n",
    "    # local NMDA\n",
    "    I_local_NMDA[i_t-1,:,:] = J_NMDA.dot(S_NMDA[i_t-1,:,:].T).T\n",
    "    \n",
    "    # sum up all the local GABA current onto E and I cell somas\n",
    "    I_local_GABA[i_t-1,:,:] = J_GABA.dot(S_GABA[i_t-1,:,:].T).T\n",
    "\n",
    "    # Define total input current as sum of local NMDA & GABA inputs, with background, external currents & noise & longRange\n",
    "    I_total[i_t-1,:,:] = I_local_NMDA[i_t-1,:,:] +  I_local_GABA[i_t-1,:,:] + I_0 + I_ext[i_t-1,:,:] + I_noise + I_midRange_NMDA[i_t-1,:,:] + I_longRange_NMDA[i_t-1,:,:]\n",
    "\n",
    "    # Update the firing rates of the excitatory population\n",
    "    R[i_t,:,0] = R[i_t-1,:,0] + dt*current_to_frequency(I_total[i_t-1,:,0],'E',parameters)/parameters['tau_rates']-dt*R[i_t-1,:,0]/parameters['tau_rates']\n",
    "\n",
    "    # Update the firing rates of the inhibitory population. \n",
    "    R[i_t,:,1] = R[i_t-1,:,1] + dt*current_to_frequency(I_total[i_t-1,:,1],'I',parameters)/parameters['tau_rates']-dt*R[i_t-1,:,1]/parameters['tau_rates']\n",
    "\n",
    "    # Update the NMDA synapses\n",
    "    S_NMDA[i_t,:,0] = S_NMDA[i_t-1,:,0] + dt*NMDA_deriv(S_NMDA[i_t-1,:,0],R[i_t,:,0],parameters)\n",
    "\n",
    "    # Update the GABA synapses\n",
    "    S_GABA[i_t,:,1] = S_GABA[i_t-1,:,1] + dt*GABA_deriv(S_GABA[i_t-1,:,1],R[i_t,:,1],parameters)\n"
   ]
  },
  {
   "cell_type": "code",
   "execution_count": null,
   "metadata": {},
   "outputs": [],
   "source": []
  },
  {
   "cell_type": "code",
   "execution_count": null,
   "metadata": {},
   "outputs": [],
   "source": []
  },
  {
   "cell_type": "code",
   "execution_count": 101,
   "metadata": {},
   "outputs": [
    {
     "data": {
      "text/plain": [
       "[<matplotlib.lines.Line2D at 0x1c7ca8f518>]"
      ]
     },
     "execution_count": 101,
     "metadata": {},
     "output_type": "execute_result"
    },
    {
     "data": {
      "image/png": "[encoded data removed]",
      "text/plain": [
       "<Figure size 432x288 with 1 Axes>"
      ]
     },
     "metadata": {
      "needs_background": "light"
     },
     "output_type": "display_data"
    }
   ],
   "source": [
    "i = 10\n",
    "a = np.arange((start_time-1)*brian2.second,(end_time-1)*brian2.second,dt)\n",
    "b = R[np.arange(int(start_time/dt),int(end_time/dt),1),i-1,0]\n",
    "\n",
    "#plt.plot(a,b,color='r')\n",
    "\n",
    "c = np.arange((start_time-1)*brian2.second,(end_time-1)*brian2.second,dt)\n",
    "d = R[np.arange(int(start_time/dt),int(end_time/dt),1),i-1,1]\n",
    "\n",
    "plt.plot(c,d,color='b')\n",
    "\n",
    "#plt.plot([stim_on-1*brian2.second,stim_off-1*brian2.second],[np.max(R+0.05*np.max(R)),np.max(R+0.05*np.max(R))],color='r',linewidth=5.0)"
   ]
  },
  {
   "cell_type": "code",
   "execution_count": 102,
   "metadata": {},
   "outputs": [
    {
     "data": {
      "text/plain": [
       "[<matplotlib.lines.Line2D at 0x1c7cc24518>]"
      ]
     },
     "execution_count": 102,
     "metadata": {},
     "output_type": "execute_result"
    },
    {
     "data": {
      "image/png": "[encoded data removed]",
      "text/plain": [
       "<Figure size 432x288 with 1 Axes>"
      ]
     },
     "metadata": {
      "needs_background": "light"
     },
     "output_type": "display_data"
    }
   ],
   "source": [
    "plt.plot(a,b,color='r')"
   ]
  },
  {
   "cell_type": "code",
   "execution_count": 95,
   "metadata": {},
   "outputs": [
    {
     "data": {
      "image/png": "[encoded data removed]",
      "text/plain": [
       "<Figure size 2400x2400 with 1 Axes>"
      ]
     },
     "metadata": {},
     "output_type": "display_data"
    }
   ],
   "source": [
    "fig = plt.figure(figsize=(30,30), dpi= 80, facecolor='w', edgecolor='k')\n",
    "plt.rcParams.update({'font.size': 12})\n",
    "start_time = 0.5 #seconds\n",
    "end_time = 3.5 #seconds\n",
    "i = 100\n",
    "#ax = plt.subplot(10, 10,i)    \n",
    "\n",
    "# Plot E population rates\n",
    "plt.plot(np.arange((start_time-1)*brian2.second,(end_time-1)*brian2.second,dt),R[np.arange(int(start_time/dt),int(end_time/dt),1),i-1,0],color='r')\n",
    "# Plot I population rates\n",
    "plt.plot(np.arange((start_time-1)*brian2.second,(end_time-1)*brian2.second,dt),R[np.arange(int(start_time/dt),int(end_time/dt),1),i-1,1],color='b')\n",
    "\n",
    "# Plot the stimulation time\n",
    "plt.plot([stim_on-1*brian2.second,stim_off-1*brian2.second],[np.max(R+0.05*np.max(R)),np.max(R+0.05*np.max(R))],color='r',linewidth=5.0)\n",
    "\n",
    "# place text above the stimulation line\n",
    "#axes = plt.gca()\n",
    "#axes.text(0.15, 1.2,'External stimulation', transform=axes.transAxes, fontsize=10, verticalalignment='top')\n",
    "\n",
    "plt.legend(['E','I'])\n",
    "plt.xlabel('time (s)')\n",
    "plt.ylabel('firing rate (Hz)')\n",
    "# plt.ylim(0, 80) \n",
    "\n",
    "plt.show()"
   ]
  },
  {
   "cell_type": "code",
   "execution_count": null,
   "metadata": {},
   "outputs": [],
   "source": [
    "fig=plt.figure(figsize=(30,30), dpi= 80, facecolor='w', edgecolor='k')\n",
    "plt.rcParams.update({'font.size': 12})\n",
    "start_time = 0.5 #seconds\n",
    "end_time = 3.5 #seconds\n",
    "\n",
    "for i in range(1,num_vertices+1):\n",
    "    ax = plt.subplot(np.sqrt(num_nodes), np.sqrt(num_vertices), i)    \n",
    "\n",
    "    # Plot E population rates\n",
    "    plt.plot(np.arange((start_time-1)*brian2.second,(end_time-1)*brian2.second,dt),R[np.arange(int(start_time/dt),int(end_time/dt),1),i-1,0],color='r')\n",
    "    # Plot I population rates\n",
    "    plt.plot(np.arange((start_time-1)*brian2.second,(end_time-1)*brian2.second,dt),R[np.arange(int(start_time/dt),int(end_time/dt),1),i-1,1],color='b')\n",
    "\n",
    "    # Plot the stimulation time\n",
    "    plt.plot([stim_on-1*brian2.second,stim_off-1*brian2.second],[np.max(R+0.05*np.max(R)),np.max(R+0.05*np.max(R))],color='r',linewidth=5.0)\n",
    "\n",
    "    # place text above the stimulation line\n",
    "    axes = plt.gca()\n",
    "    axes.text(0.15, 1.2,'External stimulation', transform=axes.transAxes, fontsize=10, verticalalignment='top')\n",
    "\n",
    "    plt.legend(['E','I'])\n",
    "    plt.xlabel('time (s)')\n",
    "    plt.ylabel('firing rate (Hz)')\n",
    "    # plt.ylim(0, 80) \n",
    "\n",
    "plt.show()"
   ]
  },
  {
   "cell_type": "code",
   "execution_count": null,
   "metadata": {},
   "outputs": [],
   "source": [
    "# Notes (4.4.19):\n",
    "# 1. increase inhibition firing rate compared to excitatory populations\n",
    "# 2. AMPA receptors? \n",
    "# 3. Delays?\n",
    "# 4. Mechanism such that firing dies off? Oscillating?\n",
    "# 5. Bring in heterogeneity\n",
    "# 6. real structural basis for connectivity data"
   ]
  },
  {
   "cell_type": "code",
   "execution_count": null,
   "metadata": {},
   "outputs": [],
   "source": [
    "# Next steps (24.4.19):\n",
    "# 1) Apply the delay matrix to long-range connections.\n",
    "# 2) Incorporate Daniel & Sean’s changes\n",
    "# 3) Run mid-range (surface propagation) code on entire cortical surface\n",
    "# 4) Write results back to surface\n",
    "# 5) Take John Murray’s white-matter connectivity matrix from Balsa and take it to the vertex level\n",
    "# 6) Calculate Euclidean distances between vertices\n",
    "# 7) Run long-range (surface and white-matter propagation with delays) code on entire cortical surface"
   ]
  },
  {
   "cell_type": "code",
   "execution_count": null,
   "metadata": {},
   "outputs": [],
   "source": []
  }
 ],
 "metadata": {
  "kernelspec": {
   "display_name": "Python 3",
   "language": "python",
   "name": "python3"
  },
  "language_info": {
   "codemirror_mode": {
    "name": "ipython",
    "version": 3
   },
   "file_extension": ".py",
   "mimetype": "text/x-python",
   "name": "python",
   "nbconvert_exporter": "python",
   "pygments_lexer": "ipython3",
   "version": "3.6.8"
  }
 },
 "nbformat": 4,
 "nbformat_minor": 2
}
